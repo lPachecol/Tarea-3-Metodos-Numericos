{
 "cells": [
  {
   "cell_type": "code",
   "execution_count": 1,
   "id": "bb5a22ec",
   "metadata": {},
   "outputs": [
    {
     "name": "stdout",
     "output_type": "stream",
     "text": [
      "Términos para error < 1e-3: (np.int64(1000), np.float64(3.140592653839794))\n",
      "Términos para error < 1e-10: (None, None)\n"
     ]
    }
   ],
   "source": [
    "import numpy as np\n",
    "import math\n",
    "\n",
    "def estimar_pi_arctan_x(x, tolerancia):\n",
    "    max_n = 1000000\n",
    "    i = np.arange(1, max_n + 1)\n",
    "    signos = (-1) ** (i + 1)\n",
    "    potencias = x ** (2 * i - 1)\n",
    "    denominadores = 2 * i - 1\n",
    "    terminos = signos * potencias / denominadores\n",
    "    suma_acumulada = np.cumsum(terminos)\n",
    "    aproximaciones_pi = 4 * suma_acumulada\n",
    "    errores = np.abs(aproximaciones_pi - math.pi)\n",
    "    \n",
    "    indices_validos = np.where(errores < tolerancia)[0]\n",
    "    if len(indices_validos) == 0:\n",
    "        return None, None\n",
    "    n_requerido = indices_validos[0] + 1\n",
    "    return n_requerido, aproximaciones_pi[n_requerido - 1]\n",
    "\n",
    "print(\"Términos para error < 1e-3:\", estimar_pi_arctan_x(1, 1e-3))\n",
    "print(\"Términos para error < 1e-10:\", estimar_pi_arctan_x(1, 1e-10))\n"
   ]
  }
 ],
 "metadata": {
  "kernelspec": {
   "display_name": "Python 3",
   "language": "python",
   "name": "python3"
  },
  "language_info": {
   "codemirror_mode": {
    "name": "ipython",
    "version": 3
   },
   "file_extension": ".py",
   "mimetype": "text/x-python",
   "name": "python",
   "nbconvert_exporter": "python",
   "pygments_lexer": "ipython3",
   "version": "3.13.3"
  }
 },
 "nbformat": 4,
 "nbformat_minor": 5
}
