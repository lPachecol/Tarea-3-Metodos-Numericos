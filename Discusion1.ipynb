{
 "cells": [
  {
   "cell_type": "code",
   "execution_count": 1,
   "id": "600aba99",
   "metadata": {},
   "outputs": [
    {
     "name": "stdout",
     "output_type": "stream",
     "text": [
      "Suma directa: 0.1111\n",
      "Suma inversa: 0.1111\n"
     ]
    }
   ],
   "source": [
    "def suma_inversa(lista):\n",
    "    suma = 0\n",
    "    for x in reversed(lista):\n",
    "        suma += x\n",
    "    return suma\n",
    "\n",
    "# Ejemplo de uso\n",
    "numeros = [0.1, 0.01, 0.001, 0.0001]\n",
    "print(\"Suma directa:\", sum(numeros))\n",
    "print(\"Suma inversa:\", suma_inversa(numeros))"
   ]
  }
 ],
 "metadata": {
  "kernelspec": {
   "display_name": "Python 3",
   "language": "python",
   "name": "python3"
  },
  "language_info": {
   "codemirror_mode": {
    "name": "ipython",
    "version": 3
   },
   "file_extension": ".py",
   "mimetype": "text/x-python",
   "name": "python",
   "nbconvert_exporter": "python",
   "pygments_lexer": "ipython3",
   "version": "3.13.3"
  }
 },
 "nbformat": 4,
 "nbformat_minor": 5
}
