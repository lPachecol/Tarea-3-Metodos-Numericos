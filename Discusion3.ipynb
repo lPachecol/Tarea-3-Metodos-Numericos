{
 "cells": [
  {
   "cell_type": "code",
   "execution_count": 2,
   "id": "197f0f30",
   "metadata": {},
   "outputs": [
    {
     "name": "stdout",
     "output_type": "stream",
     "text": [
      "Términos necesarios: 1002\n",
      "Aproximación lado izquierdo: 0.17484695787489363\n",
      "Valor lado derecho: 1.1428571428571428\n"
     ]
    }
   ],
   "source": [
    "def lado_derecho(x):\n",
    "    return (1 + 2 * x) / (1 + x + x**2)\n",
    "\n",
    "def lado_izquierdo_corregido(x, tolerancia=1e-6):\n",
    "    suma = 0\n",
    "    n = 0\n",
    "    while True:\n",
    "        coef = 2 ** n\n",
    "        num = x ** (2 * n + 1) - 2 * x ** (2 ** (n + 1))\n",
    "        den = 1 - x ** (n + 1) + x ** (2 * (n + 1))\n",
    "        if den == 0:\n",
    "            break\n",
    "        termino = coef * num / den\n",
    "        suma += termino\n",
    "        if abs(suma - lado_derecho(x)) < tolerancia:\n",
    "            break\n",
    "        n += 1\n",
    "        if n > 1000:\n",
    "            break\n",
    "    return n + 1, suma  # +1 porque n arranca en 0\n",
    "\n",
    "# Ejecutar con x = 0.25\n",
    "x = 0.25\n",
    "terminos, aproximacion = lado_izquierdo_corregido(x)\n",
    "print(\"Términos necesarios:\", terminos)\n",
    "print(\"Aproximación lado izquierdo:\", aproximacion)\n",
    "print(\"Valor lado derecho:\", lado_derecho(x))"
   ]
  }
 ],
 "metadata": {
  "kernelspec": {
   "display_name": "Python 3",
   "language": "python",
   "name": "python3"
  },
  "language_info": {
   "codemirror_mode": {
    "name": "ipython",
    "version": 3
   },
   "file_extension": ".py",
   "mimetype": "text/x-python",
   "name": "python",
   "nbconvert_exporter": "python",
   "pygments_lexer": "ipython3",
   "version": "3.13.3"
  }
 },
 "nbformat": 4,
 "nbformat_minor": 5
}
