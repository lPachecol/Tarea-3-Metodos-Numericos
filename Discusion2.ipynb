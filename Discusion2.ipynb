{
 "cells": [
  {
   "cell_type": "code",
   "execution_count": 1,
   "id": "c4bf1d85",
   "metadata": {},
   "outputs": [
    {
     "name": "stdout",
     "output_type": "stream",
     "text": [
      "Raíz x1: (100000000+0j)\n",
      "Raíz x2: (1e-08+0j)\n"
     ]
    }
   ],
   "source": [
    "import cmath\n",
    "\n",
    "def raices_estables(a, b, c):\n",
    "    discriminante = cmath.sqrt(b**2 - 4*a*c)\n",
    "    if b >= 0:\n",
    "        x1 = (-b - discriminante) / (2*a)\n",
    "    else:\n",
    "        x1 = (-b + discriminante) / (2*a)\n",
    "    x2 = c / (a * x1) if x1 != 0 else (-b - discriminante) / (2*a)\n",
    "    return x1, x2\n",
    "\n",
    "# Ejemplo\n",
    "a, b, c = 1, -1e8, 1\n",
    "x1, x2 = raices_estables(a, b, c)\n",
    "print(\"Raíz x1:\", x1)\n",
    "print(\"Raíz x2:\", x2)"
   ]
  }
 ],
 "metadata": {
  "kernelspec": {
   "display_name": "Python 3",
   "language": "python",
   "name": "python3"
  },
  "language_info": {
   "codemirror_mode": {
    "name": "ipython",
    "version": 3
   },
   "file_extension": ".py",
   "mimetype": "text/x-python",
   "name": "python",
   "nbconvert_exporter": "python",
   "pygments_lexer": "ipython3",
   "version": "3.13.3"
  }
 },
 "nbformat": 4,
 "nbformat_minor": 5
}
