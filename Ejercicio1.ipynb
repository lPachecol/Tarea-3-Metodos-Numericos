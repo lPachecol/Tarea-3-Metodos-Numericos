{
 "cells": [
  {
   "cell_type": "code",
   "execution_count": 1,
   "id": "69abe0af",
   "metadata": {},
   "outputs": [
    {
     "data": {
      "text/plain": [
       "(1.55, 1.55, 1.19, 1.2)"
      ]
     },
     "execution_count": 1,
     "metadata": {},
     "output_type": "execute_result"
    }
   ],
   "source": [
    "import numpy as np\n",
    "import sympy as sp\n",
    "\n",
    "# Ejercicio 1.a - Suma de 1/i^2 de i = 1 a 10 con aritmética de corte a 3 dígitos\n",
    "def suma_truncada_3digitos(f, n=10, reverse=False):\n",
    "    suma = 0.0\n",
    "    indices = range(1, n+1)\n",
    "    if reverse:\n",
    "        indices = reversed(indices)\n",
    "    for i in indices:\n",
    "        suma += f(i)\n",
    "        suma = float(f\"{suma:.3g}\")  # truncamiento a 3 dígitos significativos\n",
    "    return suma\n",
    "\n",
    "# Funciones para el ejercicio 1\n",
    "f1a = lambda i: float(f\"{1 / i**2:.3g}\")\n",
    "f1b = lambda i: float(f\"{1 / i**3:.3g}\")\n",
    "\n",
    "suma1a_normal = suma_truncada_3digitos(f1a)\n",
    "suma1a_reversa = suma_truncada_3digitos(f1a, reverse=True)\n",
    "\n",
    "suma1b_normal = suma_truncada_3digitos(f1b)\n",
    "suma1b_reversa = suma_truncada_3digitos(f1b, reverse=True)\n",
    "\n",
    "(suma1a_normal, suma1a_reversa, suma1b_normal, suma1b_reversa)"
   ]
  }
 ],
 "metadata": {
  "kernelspec": {
   "display_name": "Python 3",
   "language": "python",
   "name": "python3"
  },
  "language_info": {
   "codemirror_mode": {
    "name": "ipython",
    "version": 3
   },
   "file_extension": ".py",
   "mimetype": "text/x-python",
   "name": "python",
   "nbconvert_exporter": "python",
   "pygments_lexer": "ipython3",
   "version": "3.13.3"
  }
 },
 "nbformat": 4,
 "nbformat_minor": 5
}
