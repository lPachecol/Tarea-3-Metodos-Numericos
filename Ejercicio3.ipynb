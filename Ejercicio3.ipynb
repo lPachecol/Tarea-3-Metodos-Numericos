{
 "cells": [
  {
   "cell_type": "code",
   "execution_count": 1,
   "id": "5f8278e8",
   "metadata": {},
   "outputs": [
    {
     "name": "stdout",
     "output_type": "stream",
     "text": [
      "Términos para error < 1e-3: (np.int64(2), np.float64(3.1405970293260608))\n"
     ]
    }
   ],
   "source": [
    "import numpy as np\n",
    "import math\n",
    "\n",
    "def estimar_pi_machin(tolerancia):\n",
    "    max_n = 100000\n",
    "    i = np.arange(1, max_n + 1)\n",
    "    signos = (-1) ** (i + 1)\n",
    "    potencias_5 = (1 / 5) ** (2 * i - 1)\n",
    "    potencias_239 = (1 / 239) ** (2 * i - 1)\n",
    "    denominadores = 2 * i - 1\n",
    "\n",
    "    arctan_5 = signos * potencias_5 / denominadores\n",
    "    arctan_239 = signos * potencias_239 / denominadores\n",
    "    serie = 4 * (4 * arctan_5 - arctan_239)\n",
    "\n",
    "    suma_acumulada = np.cumsum(serie)\n",
    "    errores = np.abs(suma_acumulada - math.pi)\n",
    "\n",
    "    indices_validos = np.where(errores < tolerancia)[0]\n",
    "    if len(indices_validos) == 0:\n",
    "        return None, None\n",
    "    n_requerido = indices_validos[0] + 1\n",
    "    return n_requerido, suma_acumulada[n_requerido - 1]\n",
    "\n",
    "print(\"Términos para error < 1e-3:\", estimar_pi_machin(1e-3))\n"
   ]
  }
 ],
 "metadata": {
  "kernelspec": {
   "display_name": "Python 3",
   "language": "python",
   "name": "python3"
  },
  "language_info": {
   "codemirror_mode": {
    "name": "ipython",
    "version": 3
   },
   "file_extension": ".py",
   "mimetype": "text/x-python",
   "name": "python",
   "nbconvert_exporter": "python",
   "pygments_lexer": "ipython3",
   "version": "3.13.3"
  }
 },
 "nbformat": 4,
 "nbformat_minor": 5
}
