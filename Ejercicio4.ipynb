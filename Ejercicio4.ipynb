{
 "cells": [
  {
   "cell_type": "code",
   "execution_count": 1,
   "id": "70736abb",
   "metadata": {},
   "outputs": [
    {
     "name": "stdout",
     "output_type": "stream",
     "text": [
      "Algoritmo 1a (incorrecto): 0\n",
      "Algoritmo 1b (básico): 0\n",
      "Algoritmo 1c (manejo de ceros): 0\n"
     ]
    }
   ],
   "source": [
    "def algoritmo_producto_1a(x):\n",
    "    producto = 0\n",
    "    for xi in x:\n",
    "        producto *= xi\n",
    "    return producto\n",
    "\n",
    "def algoritmo_producto_1b(x):\n",
    "    producto = 1\n",
    "    for xi in x:\n",
    "        producto *= xi\n",
    "    return producto\n",
    "\n",
    "def algoritmo_producto_1c(x):\n",
    "    producto = 1\n",
    "    for xi in x:\n",
    "        if xi == 0:\n",
    "            return 0\n",
    "        producto *= xi\n",
    "    return producto\n",
    "\n",
    "valores = [1, 2, 3, 0]\n",
    "\n",
    "print(\"Algoritmo 1a (incorrecto):\", algoritmo_producto_1a(valores))\n",
    "print(\"Algoritmo 1b (básico):\", algoritmo_producto_1b(valores))\n",
    "print(\"Algoritmo 1c (manejo de ceros):\", algoritmo_producto_1c(valores))"
   ]
  }
 ],
 "metadata": {
  "kernelspec": {
   "display_name": "Python 3",
   "language": "python",
   "name": "python3"
  },
  "language_info": {
   "codemirror_mode": {
    "name": "ipython",
    "version": 3
   },
   "file_extension": ".py",
   "mimetype": "text/x-python",
   "name": "python",
   "nbconvert_exporter": "python",
   "pygments_lexer": "ipython3",
   "version": "3.13.3"
  }
 },
 "nbformat": 4,
 "nbformat_minor": 5
}
